{
 "cells": [
  {
   "cell_type": "code",
   "execution_count": 1,
   "metadata": {},
   "outputs": [],
   "source": [
    "import random\n",
    "import wandb\n",
    "import torch\n",
    "import torch.nn.functional as F\n",
    "import torch_geometric.transforms as T \n",
    "\n",
    "from query_strategies import *\n",
    "from augmentation import *\n",
    "from model import *\n",
    "from model_wrapper import *\n",
    "from trainers import *\n",
    "from util import *\n",
    "\n",
    "from hivegraph.contrastive.grace import GRACE\n",
    "\n",
    "from GRACE_new import GRACENew\n",
    "import matplotlib.pyplot as plt\n",
    "import numpy as np"
   ]
  },
  {
   "cell_type": "code",
   "execution_count": 2,
   "metadata": {},
   "outputs": [],
   "source": [
    "random.seed(0)\n",
    "device = torch.device('cuda' if torch.cuda.is_available() else 'cpu')"
   ]
  },
  {
   "cell_type": "code",
   "execution_count": 3,
   "metadata": {},
   "outputs": [],
   "source": [
    "DROPOUT= 0.3\n",
    "NUM_PASSES = 300\n",
    "BUDGET = 41\n",
    "EPOCHS = 100\n",
    "SIGNIFICANCE_ITERATIONS = 10\n",
    "\n",
    "NOISE_PROB = 0.4\n",
    "NOISE_LEVEL = 0.5\n",
    "LATENT_NOISE_LEVEL = 0.25"
   ]
  },
  {
   "cell_type": "code",
   "execution_count": 4,
   "metadata": {},
   "outputs": [],
   "source": [
    "class AugmentGraphLogitChange(AugmentedQueryStrategy):\n",
    "    def __init__(self,augmentation_fn, num_passes=10, original_weight = 0.0):\n",
    "        super().__init__(augmentation_fn, num_passes)\n",
    "        self.original_weight = original_weight\n",
    "        \n",
    "    def __call__(self,model,data, train_pool):\n",
    "        pool_indices = get_mask_indices(train_pool)\n",
    "        model.eval()\n",
    "        orig_out = model.test_step(data)\n",
    "        out = torch.zeros_like(orig_out)\n",
    "        entropies = []\n",
    "        for i in range(self.num_passes):\n",
    "            data_tmp = data.clone()\n",
    "            data_tmp = self.augmentation_fn(data_tmp)\n",
    "            out += model.test_step(data_tmp)\n",
    "            out_avg = out / (i+1)\n",
    "            entropies.append(calculate_entropy(out_avg))\n",
    "        out = out / self.num_passes\n",
    "        \n",
    "        \n",
    "        logit_change = out + self.original_weight * orig_out\n",
    "        \n",
    "        entropy = calculate_entropy(logit_change)\n",
    "        entropies.append(entropy)\n",
    "        chosen_node_ix = torch.argmax(entropy[pool_indices])\n",
    "        chosen_node = pool_indices[chosen_node_ix]\n",
    "        entropies = torch.stack(entropies)\n",
    "        return chosen_node, entropies\n",
    "    \n",
    "    def  __concat_params__(self,fn) -> str:\n",
    "        return super().__concat_params__(fn) + f\", original_weight={self.original_weight}\""
   ]
  },
  {
   "cell_type": "code",
   "execution_count": 5,
   "metadata": {},
   "outputs": [],
   "source": [
    "class AugmentGraphExpectedGraph(AugmentedQueryStrategy):\n",
    "    def __init__(self,augmentation_fn, num_passes=10, original_weight = 0.0):\n",
    "        super().__init__(augmentation_fn, num_passes)\n",
    "        self.original_weight = original_weight\n",
    "        \n",
    "    def __call__(self,model,data, train_pool):\n",
    "        pool_indices = get_mask_indices(train_pool).cpu()\n",
    "        model.eval()\n",
    "        orig_latent = model(data).detach().cpu()\n",
    "        latent = torch.zeros_like(orig_latent).cpu()\n",
    "        entropies = []\n",
    "        for i in range(self.num_passes):\n",
    "            data_tmp = data.clone()\n",
    "            data_tmp = self.augmentation_fn(data_tmp)\n",
    "            latent += model(data_tmp).detach().cpu()\n",
    "            \n",
    "            latent_avg = latent / (i+1)\n",
    "            orig_avg = model.predict_log_proba(latent_avg.detach().cpu().numpy())\n",
    "            entropies.append(calculate_entropy(torch.tensor(orig_avg)).detach().cpu())\n",
    "            del latent_avg, data_tmp\n",
    "            \n",
    "        latent = latent / self.num_passes\n",
    "        \n",
    "        expected_latent = latent + self.original_weight * orig_latent\n",
    "        out = model.predict_log_proba(expected_latent.detach().cpu().numpy())\n",
    "        entropy = calculate_entropy(torch.tensor(out))\n",
    "        entropies.append(entropy)\n",
    "        \n",
    "        chosen_node_ix = torch.argmax(entropy[pool_indices])\n",
    "        chosen_node = pool_indices[chosen_node_ix]\n",
    "        entropies = torch.stack(entropies)\n",
    "        return chosen_node, entropies\n",
    "    \n",
    "    def  __concat_params__(self,fn) -> str:\n",
    "        return super().__concat_params__(fn) + f\", original_weight={self.original_weight}\""
   ]
  },
  {
   "cell_type": "code",
   "execution_count": 6,
   "metadata": {},
   "outputs": [],
   "source": [
    "class AugmentGraphSumEntropyQuery(AugmentedQueryStrategy):\n",
    "    def __init__(self,augmentation_fn, num_passes=10, original_weight = 0.0):\n",
    "        super().__init__(augmentation_fn, num_passes)\n",
    "        self.original_weight = original_weight\n",
    "\n",
    "        \n",
    "    def __call__(self,model,data, train_pool):\n",
    "        pool_indices = get_mask_indices(train_pool)\n",
    "        model.eval()\n",
    "        entropy_sum = torch.zeros(data.num_nodes).to(data.x.device)\n",
    "        entropies = []\n",
    "        for _ in range(self.num_passes):\n",
    "            data_tmp = data.clone()\n",
    "            data_tmp = self.augmentation_fn(data_tmp)\n",
    "            out = model.test_step(data_tmp)\n",
    "            entropy = calculate_entropy(out)\n",
    "            entropies.append(entropy)\n",
    "            entropy_sum += entropy\n",
    "        entropy_sum /= self.num_passes\n",
    "        orig_out = model.test_step(data)\n",
    "        entropy = calculate_entropy(orig_out)\n",
    "        entropy_sum += self.original_weight * entropy\n",
    "        entropies.append(entropy)\n",
    "            \n",
    "        chosen_node_ix = torch.argmax(entropy_sum[pool_indices])\n",
    "        chosen_node = pool_indices[chosen_node_ix]\n",
    "        entropies = torch.stack(entropies)\n",
    "        return chosen_node, entropies\n",
    "    def  __concat_params__(self,fn) -> str:\n",
    "        return super().__concat_params__(fn) + f\", original_weight={self.original_weight}\""
   ]
  },
  {
   "cell_type": "code",
   "execution_count": 7,
   "metadata": {},
   "outputs": [],
   "source": [
    "class AugmentGraphSumEntropyQueryNeighborhood(AugmentedQueryStrategy):\n",
    "    def __init__(self,augmentation_fn, num_passes=10,n_hop = 2, original_weight = 0.0):\n",
    "        super().__init__(augmentation_fn, num_passes)\n",
    "        self.original_weight = original_weight\n",
    "        self.n_hop = n_hop\n",
    "        \n",
    "    def __call__(self,model,data, train_pool):\n",
    "        pool_indices = get_mask_indices(train_pool)\n",
    "        model.eval()\n",
    "        entropy_sum = torch.zeros(data.num_nodes).to(data.x.device)\n",
    "\n",
    "        for _ in range(self.num_passes):\n",
    "            data_tmp = data.clone()\n",
    "            data_tmp = self.augmentation_fn(data_tmp)\n",
    "            out = model.test_step(data_tmp)\n",
    "            entropy = calculate_entropy(out)\n",
    "            entropy_sum += entropy\n",
    "        entropy_sum /= self.num_passes\n",
    "        orig_out = model.test_step(data)\n",
    "        entropy = calculate_entropy(orig_out)\n",
    "        entropy_sum += self.original_weight * entropy\n",
    "            \n",
    "        \n",
    "        adjaceny = to_dense_adj(data.edge_index)\n",
    "        for _ in range(self.n_hop):\n",
    "            entropy_sum = torch.matmul(adjaceny,entropy_sum)[0]\n",
    "        chosen_node_ix = torch.argmax(entropy_sum[pool_indices])\n",
    "        \n",
    "        chosen_node = pool_indices[chosen_node_ix]\n",
    "        \n",
    "        return chosen_node\n",
    "    \n",
    "    def  __concat_params__(self,fn) -> str:\n",
    "        return super().__concat_params__(fn) + f\", original_weight={self.original_weight}\""
   ]
  },
  {
   "cell_type": "code",
   "execution_count": 8,
   "metadata": {},
   "outputs": [],
   "source": [
    "drop_edge = DropEdge(DROPOUT)\n",
    "noise_feature_all = NoiseFeature(NOISE_LEVEL, 1)\n",
    "drop_edge_noise_all = T.Compose([drop_edge, noise_feature_all])\n",
    "\n",
    "augment_sum_entropy_with_original = AugmentGraphSumEntropyQuery(drop_edge_noise_all, NUM_PASSES, 1.0)\n",
    "augment_logit_change = AugmentGraphLogitChange(drop_edge_noise_all, NUM_PASSES,0.0)\n",
    "augment_expected_graph = AugmentGraphExpectedGraph(drop_edge_noise_all, NUM_PASSES, 0.0)\n",
    "augmented_sum_neighbor = AugmentGraphSumEntropyQueryNeighborhood(drop_edge_noise_all, NUM_PASSES, 1, 0.0)"
   ]
  },
  {
   "cell_type": "code",
   "execution_count": 1,
   "metadata": {},
   "outputs": [
    {
     "ename": "NameError",
     "evalue": "name 'torch' is not defined",
     "output_type": "error",
     "traceback": [
      "\u001b[0;31m---------------------------------------------------------------------------\u001b[0m",
      "\u001b[0;31mNameError\u001b[0m                                 Traceback (most recent call last)",
      "Cell \u001b[0;32mIn[1], line 1\u001b[0m\n\u001b[0;32m----> 1\u001b[0m data_splits \u001b[38;5;241m=\u001b[39m [\u001b[43mtorch\u001b[49m\u001b[38;5;241m.\u001b[39mload(\u001b[38;5;124mf\u001b[39m\u001b[38;5;124m\"\u001b[39m\u001b[38;5;124mdata_splits/split_\u001b[39m\u001b[38;5;132;01m{\u001b[39;00mi\u001b[38;5;132;01m}\u001b[39;00m\u001b[38;5;124m.pt\u001b[39m\u001b[38;5;124m\"\u001b[39m) \u001b[38;5;28;01mfor\u001b[39;00m i \u001b[38;5;129;01min\u001b[39;00m \u001b[38;5;28mrange\u001b[39m(\u001b[38;5;241m10\u001b[39m)]\n\u001b[1;32m      2\u001b[0m dataset \u001b[38;5;241m=\u001b[39m data_splits[\u001b[38;5;241m0\u001b[39m]\u001b[38;5;241m.\u001b[39mto(device)\n",
      "\u001b[0;31mNameError\u001b[0m: name 'torch' is not defined"
     ]
    }
   ],
   "source": [
    "data_splits = [torch.load(f\"data_splits/split_{i}.pt\") for i in range(10)]\n",
    "dataset = data_splits[0].to(device)\n"
   ]
  },
  {
   "cell_type": "code",
   "execution_count": 10,
   "metadata": {},
   "outputs": [],
   "source": [
    "model = GRACENew(num_features=dataset.num_features,hidden=128, num_layers=2,\n",
    "                 drop_edge_rate_1=0.3,drop_edge_rate_2=0.3,\n",
    "                 drop_feature_rate_1=0.3,drop_feature_rate_2=0.3,\n",
    "                 ratio=0.5).to(device)\n",
    "\n",
    "optimizer = torch.optim.Adam(model.parameters(), lr=0.001, weight_decay=5e-4)\n",
    "wrapped_model = GRACEModelWrapper(model,optimizer)\n",
    "trainer = Trainer()"
   ]
  },
  {
   "cell_type": "code",
   "execution_count": 11,
   "metadata": {},
   "outputs": [
    {
     "name": "stdout",
     "output_type": "stream",
     "text": [
      "Training done\n"
     ]
    }
   ],
   "source": [
    "trainer.train(wrapped_model, dataset, 200)\n",
    "print(\"Training done\")"
   ]
  },
  {
   "cell_type": "code",
   "execution_count": 12,
   "metadata": {},
   "outputs": [],
   "source": [
    "strategy1 = augment_logit_change\n",
    "strategy2 = augment_sum_entropy_with_original\n",
    "strategy3 = augment_expected_graph"
   ]
  },
  {
   "cell_type": "code",
   "execution_count": 13,
   "metadata": {},
   "outputs": [
    {
     "name": "stderr",
     "output_type": "stream",
     "text": [
      "/tmp/ipykernel_1178423/1658822483.py:4: FutureWarning: You are using `torch.load` with `weights_only=False` (the current default value), which uses the default pickle module implicitly. It is possible to construct malicious pickle data which will execute arbitrary code during unpickling (See https://github.com/pytorch/pytorch/blob/main/SECURITY.md#untrusted-models for more details). In a future release, the default value for `weights_only` will be flipped to `True`. This limits the functions that could be executed during unpickling. Arbitrary objects will no longer be allowed to be loaded via this mode unless they are explicitly allowlisted by the user via `torch.serialization.add_safe_globals`. We recommend you start setting `weights_only=True` for any use case where you don't have full control of the loaded file. Please open an issue on GitHub for any issues related to this experimental feature.\n",
      "  data_splits = [torch.load(f\"data_splits/split_{i}.pt\") for i in range(10)]\n"
     ]
    },
    {
     "name": "stdout",
     "output_type": "stream",
     "text": [
      "Budget 1\n",
      "Budget 2\n",
      "Budget 3\n",
      "Budget 4\n",
      "Budget 5\n",
      "Budget 6\n",
      "Budget 7\n",
      "Budget 8\n",
      "Budget 9\n",
      "Budget 10\n",
      "Budget 11\n",
      "Budget 12\n",
      "Budget 13\n",
      "Budget 14\n",
      "Budget 15\n",
      "Budget 16\n",
      "Budget 17\n",
      "Budget 18\n",
      "Budget 19\n",
      "Budget 20\n",
      "Budget 21\n",
      "Budget 22\n",
      "Budget 23\n",
      "Budget 24\n",
      "Budget 25\n",
      "Budget 26\n",
      "Budget 27\n",
      "Budget 28\n",
      "Budget 29\n",
      "Budget 30\n",
      "Budget 31\n",
      "Budget 32\n",
      "Budget 33\n",
      "Budget 34\n",
      "Budget 35\n",
      "Budget 36\n",
      "Budget 37\n",
      "Budget 38\n",
      "Budget 39\n",
      "Budget 40\n",
      "Budget 41\n",
      "AugmentGraphSumEntropyQueryNeighborhood([DropEdge, NoiseFeature], original_weight=0.0) done\n"
     ]
    }
   ],
   "source": [
    "strat_accuracies = []\n",
    "strat_entropies = []\n",
    "for strategy in [augmented_sum_neighbor]:\n",
    "        data_splits = [torch.load(f\"data_splits/split_{i}.pt\") for i in range(10)]\n",
    "        budget_accuracies = []\n",
    "        budget_entropies = []\n",
    "        dataset = data_splits[0].to(device).clone()\n",
    "\n",
    "        for b in range(1,BUDGET+1):\n",
    "                print(f\"Budget {b}\")\n",
    "\n",
    "                \n",
    "                num_features = dataset.num_features\n",
    "                num_classes = dataset.y.max().item() + 1\n",
    "                \n",
    "                wrapped_model = wrapped_model\n",
    "                labels = label_indices(dataset)\n",
    "                # if b % 10 == 0:\n",
    "                #     trainer = Trainer()\n",
    "                #     trainer.train(wrapped_model, dataset, 200)\n",
    "                \n",
    "                \n",
    "                out_a = wrapped_model(dataset)\n",
    "                \n",
    "                acc = trainer.test(wrapped_model, dataset)\n",
    "                del out_a\n",
    "                chosen_node = strategy(wrapped_model, dataset, dataset.train_pool)\n",
    "                \n",
    "                # chosen_node2,entropies2 = strategy2(wrapped_model, dataset, dataset.train_pool)\n",
    "                dataset.train_pool[chosen_node] = False\n",
    "                dataset.train_mask[chosen_node] = True\n",
    "                budget_accuracies.append(acc)\n",
    "                # budget_entropies.append(entropies)\n",
    "                # budget_entropies2.append(entropies2)\n",
    "                \n",
    "                wrapped_model.reset_predictor()\n",
    "        strat_accuracies.append(budget_accuracies)\n",
    "        strat_entropies.append(budget_entropies)\n",
    "        print(f\"{strategy} done\")\n"
   ]
  },
  {
   "cell_type": "code",
   "execution_count": 14,
   "metadata": {},
   "outputs": [
    {
     "ename": "IndexError",
     "evalue": "list index out of range",
     "output_type": "error",
     "traceback": [
      "\u001b[0;31m---------------------------------------------------------------------------\u001b[0m",
      "\u001b[0;31mIndexError\u001b[0m                                Traceback (most recent call last)",
      "Cell \u001b[0;32mIn[14], line 1\u001b[0m\n\u001b[0;32m----> 1\u001b[0m \u001b[43mbudget_entropies\u001b[49m\u001b[43m[\u001b[49m\u001b[38;5;241;43m0\u001b[39;49m\u001b[43m]\u001b[49m\n",
      "\u001b[0;31mIndexError\u001b[0m: list index out of range"
     ]
    }
   ],
   "source": [
    "budget_entropies[0]"
   ]
  },
  {
   "cell_type": "code",
   "execution_count": 17,
   "metadata": {},
   "outputs": [
    {
     "data": {
      "text/plain": [
       "[[tensor(0.5130, device='cuda:0'),\n",
       "  tensor(0.4830, device='cuda:0'),\n",
       "  tensor(0.4380, device='cuda:0'),\n",
       "  tensor(0.3130, device='cuda:0'),\n",
       "  tensor(0.5140, device='cuda:0'),\n",
       "  tensor(0.4910, device='cuda:0'),\n",
       "  tensor(0.4930, device='cuda:0'),\n",
       "  tensor(0.3950, device='cuda:0'),\n",
       "  tensor(0.4550, device='cuda:0'),\n",
       "  tensor(0.4410, device='cuda:0'),\n",
       "  tensor(0.4910, device='cuda:0'),\n",
       "  tensor(0.5320, device='cuda:0'),\n",
       "  tensor(0.5090, device='cuda:0'),\n",
       "  tensor(0.6100, device='cuda:0'),\n",
       "  tensor(0.6010, device='cuda:0'),\n",
       "  tensor(0.6110, device='cuda:0'),\n",
       "  tensor(0.6700, device='cuda:0'),\n",
       "  tensor(0.6650, device='cuda:0'),\n",
       "  tensor(0.6840, device='cuda:0'),\n",
       "  tensor(0.6810, device='cuda:0'),\n",
       "  tensor(0.6840, device='cuda:0'),\n",
       "  tensor(0.6780, device='cuda:0'),\n",
       "  tensor(0.7010, device='cuda:0'),\n",
       "  tensor(0.6900, device='cuda:0'),\n",
       "  tensor(0.6930, device='cuda:0'),\n",
       "  tensor(0.7010, device='cuda:0'),\n",
       "  tensor(0.6940, device='cuda:0'),\n",
       "  tensor(0.6820, device='cuda:0'),\n",
       "  tensor(0.6980, device='cuda:0'),\n",
       "  tensor(0.7270, device='cuda:0'),\n",
       "  tensor(0.7190, device='cuda:0'),\n",
       "  tensor(0.7520, device='cuda:0'),\n",
       "  tensor(0.7460, device='cuda:0'),\n",
       "  tensor(0.7410, device='cuda:0'),\n",
       "  tensor(0.7420, device='cuda:0'),\n",
       "  tensor(0.7550, device='cuda:0'),\n",
       "  tensor(0.7390, device='cuda:0'),\n",
       "  tensor(0.7370, device='cuda:0'),\n",
       "  tensor(0.7250, device='cuda:0'),\n",
       "  tensor(0.7460, device='cuda:0'),\n",
       "  tensor(0.7500, device='cuda:0')]]"
      ]
     },
     "execution_count": 17,
     "metadata": {},
     "output_type": "execute_result"
    }
   ],
   "source": [
    "strat_accuracies"
   ]
  },
  {
   "cell_type": "code",
   "execution_count": 16,
   "metadata": {},
   "outputs": [
    {
     "data": {
      "image/png": "[encoded data removed]",
      "text/plain": [
       "<Figure size 640x480 with 1 Axes>"
      ]
     },
     "metadata": {},
     "output_type": "display_data"
    }
   ],
   "source": [
    "for strat_acc,strat in zip(strat_accuracies, [strategy1, strategy2, strategy3]):\n",
    "    strat_acc = torch.tensor(strat_acc).cpu().numpy()\n",
    "    plt.plot(strat_acc, label=str(strat))\n",
    "plt.legend()\n",
    "plt.show()"
   ]
  },
  {
   "cell_type": "code",
   "execution_count": null,
   "metadata": {},
   "outputs": [
    {
     "data": {
      "text/plain": [
       "tensor([1.9336, 1.9200, 1.9350,  ..., 1.9074, 1.9236, 1.9293],\n",
       "       dtype=torch.float64)"
      ]
     },
     "execution_count": 36,
     "metadata": {},
     "output_type": "execute_result"
    }
   ],
   "source": [
    "budget_entropies[0].mean(dim=0)"
   ]
  },
  {
   "cell_type": "code",
   "execution_count": null,
   "metadata": {},
   "outputs": [
    {
     "data": {
      "text/plain": [
       "tensor(134)"
      ]
     },
     "execution_count": 37,
     "metadata": {},
     "output_type": "execute_result"
    }
   ],
   "source": [
    "chosen_node"
   ]
  },
  {
   "cell_type": "code",
   "execution_count": null,
   "metadata": {},
   "outputs": [
    {
     "name": "stderr",
     "output_type": "stream",
     "text": [
      "/tmp/ipykernel_1175635/3506461478.py:9: UserWarning: No artists with labels found to put in legend.  Note that artists whose label start with an underscore are ignored when legend() is called with no argument.\n",
      "  plt.legend()\n"
     ]
    },
    {
     "data": {
      "image/png": "[encoded data removed]",
      "text/plain": [
       "<Figure size 640x480 with 1 Axes>"
      ]
     },
     "metadata": {},
     "output_type": "display_data"
    }
   ],
   "source": [
    "\n",
    "ix = 5\n",
    "max_std_node_entorpies =budget_entropies[40][:,ix].cpu().detach().numpy()\n",
    "cum_avg = max_std_node_entorpies\n",
    "\n",
    "\n",
    "# plt.plot(np.repeat(max_std_node_entorpies[-1],300), label=\"Original\")\n",
    "plt.plot(cum_avg)\n",
    "\n",
    "plt.legend()\n",
    "plt.show()\n"
   ]
  },
  {
   "cell_type": "code",
   "execution_count": null,
   "metadata": {},
   "outputs": [],
   "source": [
    "budget_entropies = torch.stack(budget_entropies)"
   ]
  },
  {
   "cell_type": "code",
   "execution_count": null,
   "metadata": {},
   "outputs": [
    {
     "data": {
      "text/plain": [
       "tensor([[1.7276, 1.6235, 1.7414,  ..., 1.6478, 1.7387, 1.8134],\n",
       "        [1.7859, 1.6922, 1.7592,  ..., 1.7434, 1.7871, 1.8309],\n",
       "        [1.8126, 1.7514, 1.7807,  ..., 1.7832, 1.7782, 1.8368],\n",
       "        ...,\n",
       "        [1.8646, 1.8084, 1.8150,  ..., 1.8761, 1.8249, 1.8599],\n",
       "        [1.8646, 1.8086, 1.8151,  ..., 1.8760, 1.8249, 1.8599],\n",
       "        [1.8646, 1.8086, 1.8151,  ..., 1.8760, 1.8249, 1.8599]],\n",
       "       dtype=torch.float64)"
      ]
     },
     "execution_count": 40,
     "metadata": {},
     "output_type": "execute_result"
    }
   ],
   "source": [
    "budget_entropies.mean(dim=0)"
   ]
  }
 ],
 "metadata": {
  "kernelspec": {
   "display_name": "graph_active",
   "language": "python",
   "name": "python3"
  },
  "language_info": {
   "codemirror_mode": {
    "name": "ipython",
    "version": 3
   },
   "file_extension": ".py",
   "mimetype": "text/x-python",
   "name": "python",
   "nbconvert_exporter": "python",
   "pygments_lexer": "ipython3",
   "version": "3.12.2"
  }
 },
 "nbformat": 4,
 "nbformat_minor": 2
}
